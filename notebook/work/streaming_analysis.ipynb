{
 "cells": [
  {
   "cell_type": "code",
   "execution_count": 1,
   "id": "ec627579-ff2e-498e-acb8-dd5610d2b7f7",
   "metadata": {},
   "outputs": [],
   "source": [
    "import sys\n",
    "sys.path.append(\"./work\")\n",
    "\n",
    "from utils.configuration import get_settings\n",
    "from operators.streaming import SparkStreaming\n",
    "import pyspark.sql.functions as F"
   ]
  },
  {
   "cell_type": "markdown",
   "id": "30014c77-8563-4944-b51d-527f4391b5c2",
   "metadata": {},
   "source": [
    "# Create Spark Session by user defined class"
   ]
  },
  {
   "cell_type": "code",
   "execution_count": 2,
   "id": "d8c7edb0-7c4a-498f-8841-91224dd28fc7",
   "metadata": {},
   "outputs": [],
   "source": [
    "settings = get_settings()\n",
    "spark = SparkStreaming.get_instance(app_name=\"Spark Streaming\")"
   ]
  },
  {
   "cell_type": "code",
   "execution_count": 21,
   "id": "dfe4e862-7d25-4ea4-a2d3-318a913438ae",
   "metadata": {},
   "outputs": [
    {
     "data": {
      "text/html": [
       "\n",
       "            <div>\n",
       "                <p><b>SparkSession - hive</b></p>\n",
       "                \n",
       "        <div>\n",
       "            <p><b>SparkContext</b></p>\n",
       "\n",
       "            <p><a href=\"http://f96e811bbabb:4040\">Spark UI</a></p>\n",
       "\n",
       "            <dl>\n",
       "              <dt>Version</dt>\n",
       "                <dd><code>v3.3.2</code></dd>\n",
       "              <dt>Master</dt>\n",
       "                <dd><code>spark://spark-master:7077</code></dd>\n",
       "              <dt>AppName</dt>\n",
       "                <dd><code>Spark Streaming</code></dd>\n",
       "            </dl>\n",
       "        </div>\n",
       "        \n",
       "            </div>\n",
       "        "
      ],
      "text/plain": [
       "<pyspark.sql.session.SparkSession at 0x7ff973e96520>"
      ]
     },
     "execution_count": 21,
     "metadata": {},
     "output_type": "execute_result"
    }
   ],
   "source": [
    "spark"
   ]
  },
  {
   "cell_type": "markdown",
   "id": "db7c52cb-c93c-4847-ac15-8bf29522bcbd",
   "metadata": {},
   "source": [
    "# Check the Spark MongoDB Connector"
   ]
  },
  {
   "cell_type": "code",
   "execution_count": 3,
   "id": "b1ab6686-2c3c-4923-99d6-df180bccf778",
   "metadata": {},
   "outputs": [
    {
     "name": "stdout",
     "output_type": "stream",
     "text": [
      "root\n",
      " |-- _id: string (nullable = true)\n",
      " |-- caption: string (nullable = true)\n",
      " |-- created_time: timestamp (nullable = true)\n",
      " |-- howpublished: string (nullable = true)\n",
      " |-- publisher: string (nullable = true)\n",
      " |-- short_caption: string (nullable = true)\n",
      " |-- url: string (nullable = true)\n",
      " |-- caption_size: integer (nullable = false)\n",
      "\n",
      "None\n",
      "The number of filterd rows:  187758\n"
     ]
    }
   ],
   "source": [
    "df = spark.read.format(\"mongodb\") \\\n",
    "            .option(\"spark.mongodb.read.connection.uri\", settings.MONGO_ATLAS_PYTHON) \\\n",
    "            .option(\"spark.mongodb.read.database\", \"imcp\") \\\n",
    "            .option(\"spark.mongodb.read.collection\", \"raw\") \\\n",
    "            .load()\n",
    "\n",
    "df = df.withColumn(\"created_time\", F.to_timestamp(F.col(\"created_time\"), \"yyyy-MM-dd HH:mm:ss\")) \\\n",
    "        .withColumn(\"caption_size\", F.size(F.split(df[\"caption\"], \" \")))\n",
    "\n",
    "print(df.printSchema())\n",
    "print(\"The number of filterd rows: \", df.filter(df[\"caption_size\"] < 100).count())"
   ]
  },
  {
   "cell_type": "code",
   "execution_count": 4,
   "id": "efbfe60e-e60e-4b68-af8a-770635e87359",
   "metadata": {},
   "outputs": [],
   "source": [
    "spark.stop()"
   ]
  }
 ],
 "metadata": {
  "kernelspec": {
   "display_name": "Python 3 (ipykernel)",
   "language": "python",
   "name": "python3"
  },
  "language_info": {
   "codemirror_mode": {
    "name": "ipython",
    "version": 3
   },
   "file_extension": ".py",
   "mimetype": "text/x-python",
   "name": "python",
   "nbconvert_exporter": "python",
   "pygments_lexer": "ipython3",
   "version": "3.9.13"
  }
 },
 "nbformat": 4,
 "nbformat_minor": 5
}
