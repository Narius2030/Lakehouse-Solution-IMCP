{
 "cells": [
  {
   "cell_type": "code",
   "execution_count": 1,
   "id": "ec627579-ff2e-498e-acb8-dd5610d2b7f7",
   "metadata": {},
   "outputs": [],
   "source": [
    "import sys\n",
    "sys.path.append(\"./work/imcp\")\n",
    "\n",
    "from utils.config import get_settings\n",
    "from operators.streaming import SparkStreaming\n",
    "import pyspark.sql.functions as F"
   ]
  },
  {
   "cell_type": "markdown",
   "id": "30014c77-8563-4944-b51d-527f4391b5c2",
   "metadata": {},
   "source": [
    "# Create Spark Session by user defined class"
   ]
  },
  {
   "cell_type": "code",
   "execution_count": 2,
   "id": "d8c7edb0-7c4a-498f-8841-91224dd28fc7",
   "metadata": {},
   "outputs": [],
   "source": [
    "settings = get_settings()\n",
    "spark = SparkStreaming.get_instance(app_name=\"Spark Streaming\")"
   ]
  },
  {
   "cell_type": "code",
   "execution_count": 20,
   "id": "dfe4e862-7d25-4ea4-a2d3-318a913438ae",
   "metadata": {},
   "outputs": [
    {
     "data": {
      "text/html": [
       "\n",
       "            <div>\n",
       "                <p><b>SparkSession - hive</b></p>\n",
       "                \n",
       "        <div>\n",
       "            <p><b>SparkContext</b></p>\n",
       "\n",
       "            <p><a href=\"http://f96e811bbabb:4040\">Spark UI</a></p>\n",
       "\n",
       "            <dl>\n",
       "              <dt>Version</dt>\n",
       "                <dd><code>v3.3.2</code></dd>\n",
       "              <dt>Master</dt>\n",
       "                <dd><code>spark://spark-master:7077</code></dd>\n",
       "              <dt>AppName</dt>\n",
       "                <dd><code>Spark Streaming</code></dd>\n",
       "            </dl>\n",
       "        </div>\n",
       "        \n",
       "            </div>\n",
       "        "
      ],
      "text/plain": [
       "<pyspark.sql.session.SparkSession at 0x7fb1d2da6100>"
      ]
     },
     "execution_count": 20,
     "metadata": {},
     "output_type": "execute_result"
    }
   ],
   "source": [
    "spark"
   ]
  },
  {
   "cell_type": "markdown",
   "id": "db7c52cb-c93c-4847-ac15-8bf29522bcbd",
   "metadata": {},
   "source": [
    "# Check the Spark MongoDB Connector"
   ]
  },
  {
   "cell_type": "markdown",
   "id": "eb29e8ea-c045-4fd8-b949-05f13ac7aa55",
   "metadata": {},
   "source": [
    "## Read batching data by Spark DataFrame"
   ]
  },
  {
   "cell_type": "code",
   "execution_count": 3,
   "id": "749d5f6d-c04a-423c-b1d0-aee774535312",
   "metadata": {},
   "outputs": [],
   "source": [
    "df = spark.read.format(\"mongodb\") \\\n",
    "            .option(\"spark.mongodb.read.connection.uri\", settings.MONGODB_ATLAS_URI) \\\n",
    "            .option(\"spark.mongodb.read.database\", \"imcp\") \\\n",
    "            .option(\"spark.mongodb.read.collection\", \"audit\") \\\n",
    "            .load()"
   ]
  },
  {
   "cell_type": "code",
   "execution_count": 6,
   "id": "b1ab6686-2c3c-4923-99d6-df180bccf778",
   "metadata": {},
   "outputs": [
    {
     "name": "stdout",
     "output_type": "stream",
     "text": [
      "root\n",
      " |-- _id: string (nullable = true)\n",
      " |-- caption: string (nullable = true)\n",
      " |-- caption_tokens: array (nullable = true)\n",
      " |    |-- element: string (containsNull = true)\n",
      " |-- short_caption: string (nullable = true)\n",
      " |-- url: string (nullable = true)\n",
      "\n",
      "None\n",
      "The number of filterd rows:  10\n"
     ]
    }
   ],
   "source": [
    "print(df.printSchema())\n",
    "print(\"The number of filterd rows: \", df.count())"
   ]
  },
  {
   "cell_type": "markdown",
   "id": "bce4633d-3a59-480e-9bcf-d28d52e97532",
   "metadata": {},
   "source": [
    "## Write batching data into MongoDB"
   ]
  },
  {
   "cell_type": "code",
   "execution_count": 7,
   "id": "83bd27a8-0bd8-44dd-86df-013d856478e1",
   "metadata": {},
   "outputs": [],
   "source": [
    "processed_df.write.format(\"mongodb\") \\\n",
    "            .option(\"spark.mongodb.write.connection.uri\", settings.MONGODB_ATLAS_URI) \\\n",
    "            .option(\"spark.mongodb.write.database\", \"imcp\") \\\n",
    "            .option(\"spark.mongodb.write.collection\", \"audit\") \\\n",
    "            .option(\"spark.mongodb.write.batch.size\", \"10000\") \\\n",
    "            .mode(\"append\") \\\n",
    "            .save()"
   ]
  },
  {
   "cell_type": "markdown",
   "id": "d36edef6-6567-4ef2-8d9e-af11a6f85559",
   "metadata": {},
   "source": [
    "## Processing IMCP Dataset"
   ]
  },
  {
   "cell_type": "code",
   "execution_count": 20,
   "id": "bc518d68-d824-45b2-8152-23fe0b92b835",
   "metadata": {},
   "outputs": [
    {
     "name": "stdout",
     "output_type": "stream",
     "text": [
      "root\n",
      " |-- url: string (nullable = true)\n",
      " |-- caption: string (nullable = true)\n",
      "\n"
     ]
    }
   ],
   "source": [
    "# traffic_df = (spark.read\n",
    "#                 .option(\"delimiter\", \",\")\n",
    "#                 .option(\"header\", True)\n",
    "#                 .option(\"encoding\", \"UTF-8\")\n",
    "#                 .csv(\"s3a://lakehouse/imcp/csv/traffic_dataset_01.csv\"))\n",
    "\n",
    "traffic_df = (spark.read\n",
    "                .parquet(\"s3a://lakehouse/imcp/parquets/lvis_caption_url.parquet\")\n",
    "                .drop(\"short_caption\")\n",
    "                .dropDuplicates())\n",
    "            \n",
    "traffic_df.printSchema()"
   ]
  },
  {
   "cell_type": "code",
   "execution_count": 21,
   "id": "c0f6f1c8-7d1e-4d15-a76d-ea3a99f2bd0f",
   "metadata": {},
   "outputs": [
    {
     "name": "stdout",
     "output_type": "stream",
     "text": [
      "217867\n",
      "+--------------------+--------------------+\n",
      "|                 url|             caption|\n",
      "+--------------------+--------------------+\n",
      "|http://images.coc...|a city street wit...|\n",
      "|http://images.coc...|three women weari...|\n",
      "|http://images.coc...|a young boy stand...|\n",
      "|http://images.coc...|an indoor setting...|\n",
      "|http://images.coc...|a horse and rider...|\n",
      "+--------------------+--------------------+\n",
      "only showing top 5 rows\n",
      "\n"
     ]
    }
   ],
   "source": [
    "print(traffic_df.count())\n",
    "traffic_df.show(5)"
   ]
  },
  {
   "cell_type": "code",
   "execution_count": 15,
   "id": "569e10d3-13d1-414b-92e5-214abb33669d",
   "metadata": {},
   "outputs": [
    {
     "data": {
      "text/plain": [
       "[Row(url='http://images.cocodataset.org/val2017/000000037777.jpg', caption='a kitchen with wooden cabinets on the walls, a stove, multiple drawers, a refrigerator, a counter with fruits, and a well-organized layout for cooking and storage needs.', short_caption='Well-organized kitchen with wooden cabinets, a stove, multiple drawers, a refrigerator, counter space with fruits, and a clutter-free layout for efficient cooking and storage needs.')]"
      ]
     },
     "execution_count": 15,
     "metadata": {},
     "output_type": "execute_result"
    }
   ],
   "source": [
    "traffic_df.take(1)"
   ]
  },
  {
   "cell_type": "code",
   "execution_count": 19,
   "id": "4d3803be-7359-48e5-b4c4-1d46ca323627",
   "metadata": {},
   "outputs": [
    {
     "data": {
      "text/plain": [
       "[Row(url='http://images.cocodataset.org/val2017/000000400573.jpg', caption='a person outdoors in a park or a similar open space with trees in the background wearing a jacket and a buttonup shirt underneath holding a doughnut and enjoying the moment The person is wearing glasses and appears to be in a casual mood The doughnut is likely sweet due to its glaze and there are no other people or animals visible close to the person but distant figures can be seen in the background', short_caption='A person enjoys a doughnut in a park, wearing a button-up and glasses, casually alone, with distant figures visible in the background.', caption_tokens=['a', 'person', 'outdoors', 'in', 'a', 'park', 'or', 'a', 'similar', 'open', 'space', 'with', 'trees', 'in', 'the', 'background', 'wearing', 'a', 'jacket', 'and', 'a', 'buttonup', 'shirt', 'underneath', 'holding', 'a', 'doughnut', 'and', 'enjoying', 'the', 'moment', 'The', 'person', 'is', 'wearing', 'glasses', 'and', 'appears', 'to', 'be', 'in', 'a', 'casual', 'mood', 'The', 'doughnut', 'is', 'likely', 'sweet', 'due', 'to', 'its', 'glaze', 'and', 'there', 'are', 'no', 'other', 'people', 'or', 'animals', 'visible', 'close', 'to', 'the', 'person', 'but', 'distant', 'figures', 'can', 'be', 'seen', 'in', 'the', 'background'])]"
      ]
     },
     "execution_count": 19,
     "metadata": {},
     "output_type": "execute_result"
    }
   ],
   "source": [
    "temp = traffic_df.withColumn(\"caption\", F.regexp_replace(F.col(\"caption\"), \"[^a-zA-Z0-9\\\\s]\", \"\"))\n",
    "temp= temp.withColumn(\"caption_tokens\", F.split(F.col(\"caption\"), \" \"))\n",
    "temp.take(1)"
   ]
  },
  {
   "cell_type": "code",
   "execution_count": 21,
   "id": "efbfe60e-e60e-4b68-af8a-770635e87359",
   "metadata": {},
   "outputs": [],
   "source": [
    "spark.stop()"
   ]
  }
 ],
 "metadata": {
  "kernelspec": {
   "display_name": "Python 3 (ipykernel)",
   "language": "python",
   "name": "python3"
  },
  "language_info": {
   "codemirror_mode": {
    "name": "ipython",
    "version": 3
   },
   "file_extension": ".py",
   "mimetype": "text/x-python",
   "name": "python",
   "nbconvert_exporter": "python",
   "pygments_lexer": "ipython3",
   "version": "3.9.13"
  }
 },
 "nbformat": 4,
 "nbformat_minor": 5
}
